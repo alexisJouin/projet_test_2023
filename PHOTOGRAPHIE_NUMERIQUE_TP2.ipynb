{
 "cells": [
  {
   "cell_type": "markdown",
   "metadata": {},
   "source": [
    "# PHOTOGRAPHIE NUMÉRIQUE - TP2\n",
    "---\n",
    "# *Traitement photo avec Python*\n",
    "---"
   ]
  },
  {
   "cell_type": "markdown",
   "metadata": {},
   "source": [
    "##### Nous allons travailler (Si, si !) dans un premier temps avec une image qui se nomme : *bridge.bmp*.\n",
    "Ci-dessous les informations de cette image :\n",
    "\n",
    "- Nom : bridge.bmp\n",
    "- Définition : 512 x 512\n",
    "- Taille : 257ko\n",
    "![bridge.bmp](bridge.bmp)"
   ]
  },
  {
   "cell_type": "markdown",
   "metadata": {},
   "source": [
    "---\n",
    "## ÉTAPE 1 : les pixels\n",
    "---"
   ]
  },
  {
   "cell_type": "markdown",
   "metadata": {},
   "source": [
    "#### Cliquer sur le bouton Exécuter et répondre aux différentes questions"
   ]
  },
  {
   "cell_type": "markdown",
   "metadata": {},
   "source": [
    "On importe la bibliothèque Image du module `PIL` (ou `PILLOW`) : elle permet d’avoir des instructions dédiées.\n",
    "Et on importe la bibliothèque `IPython.display` : elle autorise l'affichage des photos dans un notebook Jupyter (non nécessaire dans un éditeur classique tel que *Thonny*)."
   ]
  },
  {
   "cell_type": "code",
   "execution_count": null,
   "metadata": {},
   "outputs": [],
   "source": [
    "from PIL import Image as img                       \n",
    "from IPython.display import Image, display"
   ]
  },
  {
   "cell_type": "markdown",
   "metadata": {},
   "source": [
    "On charge dans une variable le contenu du fichier `bridge.bmp` : il s'agit d'une photographie *carrée* d'une **définition** (taille) de 512 pixels sur 512 pixels."
   ]
  },
  {
   "cell_type": "code",
   "execution_count": null,
   "metadata": {},
   "outputs": [],
   "source": [
    "# On charge dans une variable le contenu du fichier `bridge.bmp`\n",
    "mon_image = img.open('bridge.bmp')\n",
    "print(mon_image.getpixel((0,0)))"
   ]
  },
  {
   "cell_type": "markdown",
   "metadata": {},
   "source": [
    "### <i class=\"fa fa-question-circle fa-lg\"></i>  QUESTION A"
   ]
  },
  {
   "cell_type": "markdown",
   "metadata": {},
   "source": [
    "<i class=\"fa fa-question-circle fa-lg\"></i>  **Quel est le rôle de la méthode `getpixel()` ?   \n",
    "Quels sont les paramètres nécessaires ?**  \n",
    "\n",
    "Vous pouvez tester cette méthode dans la cellule ci-dessous en changeant les valeurs :"
   ]
  },
  {
   "cell_type": "code",
   "execution_count": null,
   "metadata": {},
   "outputs": [],
   "source": [
    "# Cellule de test"
   ]
  },
  {
   "cell_type": "markdown",
   "metadata": {},
   "source": [
    "**Réponse** :"
   ]
  },
  {
   "cell_type": "markdown",
   "metadata": {},
   "source": [
    "*répondre en cliquant ici*"
   ]
  },
  {
   "cell_type": "markdown",
   "metadata": {},
   "source": [
    "### <i class=\"fa fa-question-circle fa-lg\"></i>   QUESTION B"
   ]
  },
  {
   "cell_type": "markdown",
   "metadata": {},
   "source": [
    "Puis on exécute la suite de l'algorithme :"
   ]
  },
  {
   "cell_type": "code",
   "execution_count": null,
   "metadata": {},
   "outputs": [],
   "source": [
    "for i in range(100) :\n",
    "    for j in range(100) :\n",
    "        teinte = mon_image.getpixel((i,j))\n",
    "        mon_image.putpixel((i,j),255-teinte)\n",
    "display(mon_image)"
   ]
  },
  {
   "cell_type": "markdown",
   "metadata": {},
   "source": [
    "**Quel est le rôle précis de cet algorithme ?**"
   ]
  },
  {
   "cell_type": "markdown",
   "metadata": {},
   "source": [
    "**Réponse** :"
   ]
  },
  {
   "cell_type": "markdown",
   "metadata": {},
   "source": [
    "*répondre en cliquant ici*"
   ]
  },
  {
   "cell_type": "markdown",
   "metadata": {},
   "source": [
    "**En déduire quel est le rôle de la méthode `putpixel()`:**"
   ]
  },
  {
   "cell_type": "markdown",
   "metadata": {},
   "source": [
    "On peut utiliser la fonction `print()` pour s'aider en testant la méthode dans la cellule ci-dessous."
   ]
  },
  {
   "cell_type": "code",
   "execution_count": null,
   "metadata": {},
   "outputs": [],
   "source": [
    "# Vous pouvez tester cette méthode dans cette cellule"
   ]
  },
  {
   "cell_type": "markdown",
   "metadata": {},
   "source": [
    "**Réponse** :"
   ]
  },
  {
   "cell_type": "markdown",
   "metadata": {},
   "source": [
    "*répondre en cliquant ici*"
   ]
  },
  {
   "cell_type": "markdown",
   "metadata": {},
   "source": [
    "---\n",
    "## ÉTAPE 2 : modifier une partie de la photo\n",
    "---"
   ]
  },
  {
   "cell_type": "markdown",
   "metadata": {},
   "source": [
    "### <i class=\"fa fa-question-circle fa-lg\"></i>  QUESTION C"
   ]
  },
  {
   "cell_type": "markdown",
   "metadata": {},
   "source": [
    "**Modifier cet algorithme afin que toute la moitié supérieure de la photo soit modifiée.**"
   ]
  },
  {
   "cell_type": "code",
   "execution_count": null,
   "metadata": {},
   "outputs": [],
   "source": [
    "from PIL import Image as img\n",
    "from IPython.display import Image, display\n",
    "\n",
    "image_traitement = img.open('bridge.bmp')\n",
    "for i in range(???) :\n",
    "    for j in range(???) :\n",
    "        teinte = image_traitement.getpixel((???))\n",
    "        image_traitement.putpixel((???),255-teinte)\n",
    "\n",
    "#Affichage de l'image\n",
    "display(image_traitement)"
   ]
  },
  {
   "cell_type": "markdown",
   "metadata": {},
   "source": [
    "---\n",
    "## ÉTAPE 3 : la taille d'une image\n",
    "---"
   ]
  },
  {
   "cell_type": "markdown",
   "metadata": {},
   "source": [
    "La méthode `.size` permet de récupérer la taille d’une photo ce qui est assez pratique lorsque l’on souhaite modifier une photo entière sans en connaître la taille au préalable.  \n",
    "Cette méthode renvoie deux nombres : largeur puis hauteur de l’image.\n",
    "\n",
    "**Exemple :**\n",
    "\n",
    "    # Pour affecter à la variable x la largeur et à y la hauteur :\n",
    "    x,y = monimage.size"
   ]
  },
  {
   "cell_type": "code",
   "execution_count": null,
   "metadata": {},
   "outputs": [],
   "source": [
    "mon_image.size"
   ]
  },
  {
   "cell_type": "markdown",
   "metadata": {},
   "source": [
    "### <i class=\"fa fa-question-circle fa-lg\"></i>  QUESTION D"
   ]
  },
  {
   "cell_type": "markdown",
   "metadata": {},
   "source": [
    "Dans la cellule ci-dessous, ajouter les instructions permettant de  récupérer la taille de l’image *bridge.bmp* dès le début dans deux variables nommées `largeur` et `hauteur`.  \n",
    "Ces deux variables seront alors utilisées afin que l’algorithme modifie TOUTE l’image cette fois.  \n",
    "\n",
    "*Remarque : favoriser le `copier/coller`afin de gagner du temps...*"
   ]
  },
  {
   "cell_type": "code",
   "execution_count": null,
   "metadata": {},
   "outputs": [],
   "source": [
    "from PIL import Image as img\n",
    "from IPython.display import Image, display\n",
    "\n",
    "# Récupération et stockage de la largeur et de la hauteur\n",
    "\n",
    "# Modification de la photo"
   ]
  },
  {
   "cell_type": "markdown",
   "metadata": {},
   "source": [
    "---\n",
    "## ÉTAPE 4 : Noir, c'est noir.\n",
    "---"
   ]
  },
  {
   "cell_type": "markdown",
   "metadata": {},
   "source": [
    "**L’image fournie est une photo en noir et blanc ; on dit aussi en niveaux de gris.\n",
    "Nous souhaitons la modifier afin qu’elle soit en noir OU blanc grâce à un algorithme : autrement dit un pixel sera soit noir, soit blanc et rien d’autre !**\n",
    "\n",
    "Pour un pixel, on utilise le codage RVB comme nous l’avons vu, avec pour chaque couleur une valeur allant de 0 à 255 pour en fixer l’intensité.\n",
    "Comme vous avez pu le constater au début de ce TP, notre méthode `.getpixel()` ne renvoie pas 3 nombres mais un seul…"
   ]
  },
  {
   "cell_type": "markdown",
   "metadata": {},
   "source": [
    "### <i class=\"fa fa-question-circle fa-lg\"></i>  QUESTION E"
   ]
  },
  {
   "cell_type": "markdown",
   "metadata": {},
   "source": [
    "Testons cela dans la cellule Python.  \n",
    "Récupérer la couleur du pixel de coordonnées (50,50)."
   ]
  },
  {
   "cell_type": "code",
   "execution_count": null,
   "metadata": {},
   "outputs": [],
   "source": [
    "from PIL import Image as img\n",
    "from IPython.display import Image, display\n",
    "\n",
    "image_traitement = img.open('bridge.bmp')\n",
    "\n",
    "image_traitement.getpixel((50,50))"
   ]
  },
  {
   "cell_type": "markdown",
   "metadata": {},
   "source": [
    "**Réponse** :"
   ]
  },
  {
   "cell_type": "markdown",
   "metadata": {},
   "source": [
    "*répondre en cliquant ici*"
   ]
  },
  {
   "cell_type": "markdown",
   "metadata": {},
   "source": [
    "### <i class=\"fa fa-question-circle fa-lg\"></i>  QUESTION F"
   ]
  },
  {
   "cell_type": "markdown",
   "metadata": {},
   "source": [
    "**Récupérer la couleur du pixel de coordonnées (150,250).**"
   ]
  },
  {
   "cell_type": "code",
   "execution_count": null,
   "metadata": {},
   "outputs": [],
   "source": [
    "# Votre code :"
   ]
  },
  {
   "cell_type": "markdown",
   "metadata": {},
   "source": [
    "**Réponse** :"
   ]
  },
  {
   "cell_type": "markdown",
   "metadata": {},
   "source": [
    "*répondre en cliquant ici*"
   ]
  },
  {
   "cell_type": "markdown",
   "metadata": {},
   "source": [
    "### <i class=\"fa fa-question-circle fa-lg\"></i>  QUESTION G"
   ]
  },
  {
   "cell_type": "markdown",
   "metadata": {},
   "source": [
    "**Compléter les phrases ci-dessous :**"
   ]
  },
  {
   "cell_type": "markdown",
   "metadata": {},
   "source": [
    "*Pour un pixel se rapprochant de la couleur blanche, la valeur est proche de ...*"
   ]
  },
  {
   "cell_type": "markdown",
   "metadata": {},
   "source": [
    "**Réponse** :"
   ]
  },
  {
   "cell_type": "markdown",
   "metadata": {},
   "source": [
    "*répondre en cliquant ici*"
   ]
  },
  {
   "cell_type": "markdown",
   "metadata": {},
   "source": [
    "*Pour un pixel se rapprochant de la couleur noire, la valeur est proche de ...*"
   ]
  },
  {
   "cell_type": "markdown",
   "metadata": {},
   "source": [
    "**Réponse** :"
   ]
  },
  {
   "cell_type": "markdown",
   "metadata": {},
   "source": [
    "*répondre en cliquant ici*"
   ]
  },
  {
   "cell_type": "markdown",
   "metadata": {},
   "source": [
    "### <i class=\"fa fa-question-circle fa-lg\"></i>  QUESTION H"
   ]
  },
  {
   "cell_type": "markdown",
   "metadata": {},
   "source": [
    "**Compléter et modifier cet algorithme afin que  :**\n",
    "- toute l'image soit modifiée en ayant récupéré sa taille ;\n",
    "- un pixel devienne noir s'il est gris foncé, sinon blanc."
   ]
  },
  {
   "cell_type": "code",
   "execution_count": null,
   "metadata": {},
   "outputs": [],
   "source": [
    "from PIL import Image as img\n",
    "from IPython.display import Image, display\n",
    "\n",
    "photo = img.open(\"bridge.bmp\")\n",
    "largeur, hauteur = ???\n",
    "\n",
    "for x in range(???) :\n",
    "    for y in range(???) :\n",
    "        teinte = photo.getpixel((x,y))\n",
    "        if teinte < ??? :\n",
    "            photo.putpixel((x,y),???)\n",
    "        else :\n",
    "            photo.putpixel((x,y),255)\n",
    "display(photo)\n"
   ]
  },
  {
   "cell_type": "markdown",
   "metadata": {},
   "source": [
    "---\n",
    "## ÉTAPE 5 : Une fonction pour le seuil\n",
    "---"
   ]
  },
  {
   "cell_type": "markdown",
   "metadata": {},
   "source": [
    "La valeur de référence utilisée pour déterminer si un pixel sera noir ou blanc est ce que l’on appelle un seuil.  \n",
    "Il serait donc intéressant d’écrire cette partie de l'algorithme sous forme d’une fonction prenant ce seuil en paramètre :\n",
    "\n",
    "    def mafonction(seuil) :\n",
    "        instruction 1\n",
    "        instruction 2\n",
    "        …\n",
    "Ainsi nous pourrions appeler notre fonction avec le seuil de notre choix à chaque fois !  \n",
    "\n",
    "**Exemple :**\n",
    "\n",
    "    mafonction(102) "
   ]
  },
  {
   "cell_type": "markdown",
   "metadata": {},
   "source": [
    "### <i class=\"fa fa-question-circle fa-lg\"></i>  QUESTION I"
   ]
  },
  {
   "cell_type": "markdown",
   "metadata": {},
   "source": [
    "Cette fonction sera nommée `noirblanc()`. \n",
    "Ajouter l’instruction suivante dans l’algorithme et faire les deux modifications nécessaires pour qu’il fonctionne :\n",
    "\n",
    "    def noirblanc(seuil)"
   ]
  },
  {
   "cell_type": "code",
   "execution_count": null,
   "metadata": {},
   "outputs": [],
   "source": [
    "from PIL import Image as img                       \n",
    "from IPython.display import Image, display"
   ]
  },
  {
   "cell_type": "code",
   "execution_count": null,
   "metadata": {},
   "outputs": [],
   "source": [
    "# Copier/coller l'algorithme précédent ici afin de traiter la question\n"
   ]
  },
  {
   "cell_type": "markdown",
   "metadata": {},
   "source": [
    "Il n'y a plus qu'à tester votre fonction en l'appelant avec différentes valeurs pour voir le résultat :"
   ]
  },
  {
   "cell_type": "code",
   "execution_count": null,
   "metadata": {},
   "outputs": [],
   "source": [
    "# Appel de la fonction noirblanc() pour des tests :"
   ]
  },
  {
   "cell_type": "markdown",
   "metadata": {},
   "source": [
    "---\n",
    "## ÉTAPE 6 : Len(n)a Len(n)a\n",
    "---"
   ]
  },
  {
   "cell_type": "markdown",
   "metadata": {},
   "source": [
    "*(Le titre de cette étape fait référence à un titre du groupe Twee Belgen sorti en 1995. : voir l'article de [Wikipédia](https://fr.wikipedia.org/wiki/Twee_Belgen).*\n",
    "\n",
    "La couleur d’un pixel est définie par les trois couleurs Rouge, Vert, Bleu.  \n",
    "Chaque couleur est codée sur 8 bits, soit $2^8=256$ valeurs.  \n",
    "On travaille cette fois-ci sur le fichier *lenna.bmp* :  \n",
    "![lenna.bmp](lenna.bmp)"
   ]
  },
  {
   "cell_type": "markdown",
   "metadata": {},
   "source": [
    "### <i class=\"fa fa-question-circle fa-lg\"></i>  QUESTION J"
   ]
  },
  {
   "cell_type": "markdown",
   "metadata": {},
   "source": [
    "Exécuter l'algorithme ci-dessous :"
   ]
  },
  {
   "cell_type": "code",
   "execution_count": null,
   "metadata": {},
   "outputs": [],
   "source": [
    "im_couleur = img.open(\"lenna.bmp\")\n",
    "r, v, b = im_couleur.getpixel((200,300))\n",
    "print(r,v,b)"
   ]
  },
  {
   "cell_type": "markdown",
   "metadata": {},
   "source": [
    "**Que retourne cet algoritme ? Soyez précis.**"
   ]
  },
  {
   "cell_type": "markdown",
   "metadata": {},
   "source": [
    "**Réponse** :"
   ]
  },
  {
   "cell_type": "markdown",
   "metadata": {},
   "source": [
    "*répondre en cliquant ici*"
   ]
  },
  {
   "cell_type": "markdown",
   "metadata": {},
   "source": [
    "### <i class=\"fa fa-question-circle fa-lg\"></i>  QUESTION K"
   ]
  },
  {
   "cell_type": "markdown",
   "metadata": {},
   "source": [
    "Pour obtenir un gris standard, une formule est proposée : $$0.11*r+0.83*g+0.06*b$$\n",
    "\n",
    "Copier/coller l’algorithme précédent dans la cellule ci-dessous et le modifier afin que TOUTE l’image soit convertie en noir et blanc !"
   ]
  },
  {
   "cell_type": "code",
   "execution_count": null,
   "metadata": {},
   "outputs": [],
   "source": [
    "##### Copier/coller l'algorithme précédent ici afin de traiter la question\n",
    "photo = img.open('lenna.bmp')\n",
    "largeur, hauteur = photo.size\n",
    "\n",
    "for y in range(hauteur) :\n",
    "    for x in range(largeur) :\n",
    "            r, v, b = photo.getpixel((x, y))\n",
    "            gris = int(0.11 * r + 0.83 * v + 0.06 * b)\n",
    "            photo.putpixel((x, y), (gris,gris,gris))\n",
    "\n",
    "display(photo)"
   ]
  },
  {
   "cell_type": "code",
   "execution_count": null,
   "metadata": {},
   "outputs": [],
   "source": []
  }
 ],
 "metadata": {
  "kernelspec": {
   "display_name": "Python 3",
   "language": "python",
   "name": "python3"
  },
  "language_info": {
   "codemirror_mode": {
    "name": "ipython",
    "version": 3
   },
   "file_extension": ".py",
   "mimetype": "text/x-python",
   "name": "python",
   "nbconvert_exporter": "python",
   "pygments_lexer": "ipython3",
   "version": "3.6.9"
  }
 },
 "nbformat": 4,
 "nbformat_minor": 4
}
